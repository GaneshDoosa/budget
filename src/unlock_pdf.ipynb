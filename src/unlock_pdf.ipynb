{
 "cells": [
  {
   "cell_type": "code",
   "execution_count": 1,
   "id": "ac803906",
   "metadata": {},
   "outputs": [],
   "source": [
    "import pikepdf\n",
    "import os"
   ]
  },
  {
   "cell_type": "code",
   "execution_count": 7,
   "id": "8f8ebeb3",
   "metadata": {},
   "outputs": [],
   "source": [
    "# Read pdf\n",
    "filepath = 'C:\\\\Users\\\\Ganesh\\\\Documents\\\\Ganesh Docs\\\\Cards'\n",
    "filename = 'EAadhaar_Validated.pdf'\n",
    "password = 'DOOS1993'\n",
    "output_filepath = os.path.join(filepath, filename.replace('.pdf','_unlocked.pdf'))"
   ]
  },
  {
   "cell_type": "code",
   "execution_count": 8,
   "id": "bc4fbaa8",
   "metadata": {},
   "outputs": [],
   "source": [
    "absolute_filepath = os.path.join(filepath, filename)\n",
    "pdf = pikepdf.open(absolute_filepath, password=password)\n",
    "pdf.save(output_filepath)"
   ]
  }
 ],
 "metadata": {
  "kernelspec": {
   "display_name": "Python 3 (ipykernel)",
   "language": "python",
   "name": "python3"
  },
  "language_info": {
   "codemirror_mode": {
    "name": "ipython",
    "version": 3
   },
   "file_extension": ".py",
   "mimetype": "text/x-python",
   "name": "python",
   "nbconvert_exporter": "python",
   "pygments_lexer": "ipython3",
   "version": "3.9.7"
  }
 },
 "nbformat": 4,
 "nbformat_minor": 5
}
